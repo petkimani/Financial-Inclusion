{
  "nbformat": 4,
  "nbformat_minor": 0,
  "metadata": {
    "colab": {
      "provenance": [],
      "authorship_tag": "ABX9TyO2+e1ij6+3WzdjU7qfwqtI",
      "include_colab_link": true
    },
    "kernelspec": {
      "name": "python3",
      "display_name": "Python 3"
    },
    "language_info": {
      "name": "python"
    }
  },
  "cells": [
    {
      "cell_type": "markdown",
      "metadata": {
        "id": "view-in-github",
        "colab_type": "text"
      },
      "source": [
        "<a href=\"https://colab.research.google.com/github/petkimani/Financial-Inclusion/blob/main/Streamlit_deployment.ipynb\" target=\"_parent\"><img src=\"https://colab.research.google.com/assets/colab-badge.svg\" alt=\"Open In Colab\"/></a>"
      ]
    },
    {
      "cell_type": "code",
      "execution_count": null,
      "metadata": {
        "id": "BJXeVtr6DowE"
      },
      "outputs": [],
      "source": [
        "import streamlit as st\n",
        "import pandas as pd\n",
        "from sklearn.tree import DecisionTreeClassifier\n",
        "from sklearn.preprocessing import LabelEncoder\n",
        "\n",
        "# Title\n",
        "st.title(\"Financial Inclusion Predictor\")\n",
        "st.markdown(\"Predict whether an individual is likely to have a bank account\")\n",
        "\n",
        "# Load and preprocess data (in production, use preprocessed data or pipeline)\n",
        "df = pd.read_csv(\"Financial_inclusion_dataset.csv\")\n",
        "df.drop([\"country\", \"year\", \"uniqueid\"], axis=1, inplace=True)\n",
        "\n",
        "# Drop NA and handle outliers (minimal version for deploy)\n",
        "df.dropna(inplace=True)\n",
        "\n",
        "# Encode target first\n",
        "df['bank_account'] = df['bank_account'].map({'Yes': 1, 'No': 0})\n",
        "df['location_type'] = df['location_type'].map({'Rural': 0, 'Urban': 1})\n",
        "df['cellphone_access'] = df['cellphone_access'].map({'Yes': 1, 'No': 0})\n",
        "df['gender_of_respondent'] = df['gender_of_respondent'].map({'Male': 1, 'Female': 0})\n",
        "\n",
        "le = LabelEncoder()\n",
        "df['relationship_with_head'] = le.fit_transform(df['relationship_with_head'])\n",
        "df['marital_status'] = le.fit_transform(df['marital_status'])\n",
        "df['education_level'] = le.fit_transform(df['education_level'])\n",
        "df['job_type'] = le.fit_transform(df['job_type'])\n",
        "\n",
        "X = df.drop('bank_account', axis=1)\n",
        "y = df['bank_account']\n",
        "\n",
        "# Train model (in production, load a saved model)\n",
        "model = DecisionTreeClassifier(max_depth=4, criterion='gini', min_samples_split=10, random_state=42)\n",
        "model.fit(X, y)\n",
        "\n",
        "# Input form\n",
        "st.sidebar.header(\"Enter individual's data\")\n",
        "\n",
        "age = st.sidebar.slider(\"Age\", min_value=16, max_value=100, value=30)\n",
        "\n",
        "household_size = st.sidebar.slider(\"Household Size\", 1, 20, 4)\n",
        "\n",
        "location_type = st.sidebar.radio(\"Location Type\", ['Rural', 'Urban'])\n",
        "cellphone_access = st.sidebar.radio(\"Has Cellphone Access\", ['Yes', 'No'])\n",
        "gender = st.sidebar.radio(\"Gender\", ['Male', 'Female'])\n",
        "\n",
        "relationship = st.sidebar.selectbox(\"Relationship with Head\", df['relationship_with_head'].unique())\n",
        "marital_status = st.sidebar.selectbox(\"Marital Status\", df['marital_status'].unique())\n",
        "education = st.sidebar.selectbox(\"Education Level\", df['education_level'].unique())\n",
        "job_type = st.sidebar.selectbox(\"Job Type\", df['job_type'].unique())\n",
        "\n",
        "# Encode inputs\n",
        "input_dict = {\n",
        "    'age_of_respondent': age,\n",
        "    'household_size': household_size,\n",
        "    'location_type': 1 if location_type == 'Urban' else 0,\n",
        "    'cellphone_access': 1 if cellphone_access == 'Yes' else 0,\n",
        "    'gender_of_respondent': 1 if gender == 'Male' else 0,\n",
        "    'relationship_with_head': le.transform([relationship])[0],\n",
        "    'marital_status': le.transform([marital_status])[0],\n",
        "    'education_level': le.transform([education])[0],\n",
        "    'job_type': le.transform([job_type])[0]\n",
        "}\n",
        "\n",
        "input_df = pd.DataFrame([input_dict])\n",
        "\n",
        "# Predict\n",
        "if st.button(\"Predict\"):\n",
        "    prediction = model.predict(input_df)[0]\n",
        "    result = \"✅ Likely to have a bank account\" if prediction == 1 else \"❌ Unlikely to have a bank account\"\n",
        "    st.success(result)\n"
      ]
    }
  ]
}